{
 "cells": [
  {
   "cell_type": "code",
   "execution_count": 121,
   "metadata": {},
   "outputs": [],
   "source": [
    "with open('./input.txt', 'r') as f:\n",
    "    lines = f.readlines()\n",
    "\n",
    "for i in range(len(lines)):\n",
    "    lines[i] = lines[i].strip()"
   ]
  },
  {
   "cell_type": "code",
   "execution_count": 122,
   "metadata": {},
   "outputs": [
    {
     "data": {
      "text/plain": [
       "['...........',\n",
       " '.S-------7.',\n",
       " '.|F-----7|.',\n",
       " '.||.....||.',\n",
       " '.||.....||.',\n",
       " '.|L-7.F-J|.',\n",
       " '.|..|.|..|.',\n",
       " '.L--J.L--J.',\n",
       " '...........']"
      ]
     },
     "execution_count": 122,
     "metadata": {},
     "output_type": "execute_result"
    }
   ],
   "source": [
    "lines"
   ]
  },
  {
   "cell_type": "code",
   "execution_count": 123,
   "metadata": {},
   "outputs": [],
   "source": [
    "# given input cord and direction, return the next cord based on character\n",
    "\n",
    "\"\"\"\n",
    "\n",
    "| is a vertical pipe connecting north and south.\n",
    "- is a horizontal pipe connecting east and west.\n",
    "L is a 90-degree bend connecting north and east.\n",
    "J is a 90-degree bend connecting north and west.\n",
    "7 is a 90-degree bend connecting south and west.\n",
    "F is a 90-degree bend connecting south and east.\n",
    ". is ground; there is no pipe in this tile.\n",
    "S is the starting position of the animal;\n",
    "\n",
    "\"\"\"\n",
    "\n",
    "def nextCordVert(curCell, symCord):\n",
    "    symRow = symCord[0]\n",
    "    curRow = curCell[0]\n",
    "    curCol = curCell[1]\n",
    "\n",
    "    # north to south\n",
    "    if(symRow == curRow + 1):\n",
    "        return  symRow + 1, curCol,\n",
    "    \n",
    "    # south to north\n",
    "    if(symRow == curRow - 1):\n",
    "        return  symRow - 1, curCol\n",
    "    \n",
    "def newCordHor(curCell, symCord):\n",
    "    symCol = symCord[1]\n",
    "    curRow = curCell[0]\n",
    "    curCol = curCell[1]\n",
    "\n",
    "    # west to east\n",
    "    if(symCol == curCol + 1):\n",
    "        return curRow, symCol + 1   \n",
    "    \n",
    "    # east to west\n",
    "    if(symCol == curCol - 1):\n",
    "        return curRow, symCol - 1\n",
    "    \n",
    "def newCordL(curCell, symCord):\n",
    "    symRow = symCord[0]\n",
    "    symCol = symCord[1]\n",
    "    curRow = curCell[0]\n",
    "    curCol = curCell[1]\n",
    "\n",
    "    # north to east\n",
    "    if(symRow == curRow + 1):\n",
    "        return symRow, symCol + 1\n",
    "    \n",
    "    # east to north\n",
    "    if(symCol == curCol - 1):\n",
    "        return symRow - 1, symCol\n",
    "    \n",
    "def newCordJ(curCell, symCord):\n",
    "\n",
    "    symRow = symCord[0]\n",
    "    symCol = symCord[1]\n",
    "    curRow = curCell[0]\n",
    "    curCol = curCell[1]\n",
    "\n",
    "    # north to west\n",
    "    if(symRow == curRow + 1):\n",
    "        return symRow, symCol - 1\n",
    "    \n",
    "    # west to north\n",
    "    if(symCol == curCol + 1):\n",
    "        return symRow - 1, symCol\n",
    "\n",
    "def newCord7(curCell, symCord):\n",
    "    symRow = symCord[0]\n",
    "    symCol = symCord[1]\n",
    "    curRow = curCell[0]\n",
    "    curCol = curCell[1]\n",
    "\n",
    "    # south to west\n",
    "    if(symRow == curRow - 1):\n",
    "        return symRow, symCol - 1\n",
    "    \n",
    "    # west to south\n",
    "    if(symCol == curCol + 1):\n",
    "        return symRow + 1, symCol\n",
    "    \n",
    "def newCordF(curCell, symCord):\n",
    "    \n",
    "        symRow = symCord[0]\n",
    "        symCol = symCord[1]\n",
    "        curRow = curCell[0]\n",
    "        curCol = curCell[1]\n",
    "    \n",
    "        # south to east\n",
    "        if(symRow == curRow - 1):\n",
    "            return symRow, symCol + 1\n",
    "        \n",
    "        # east to south\n",
    "        if(symCol == curCol - 1):\n",
    "            return symRow + 1, symCol"
   ]
  },
  {
   "cell_type": "code",
   "execution_count": 124,
   "metadata": {},
   "outputs": [],
   "source": [
    "Srow = 1\n",
    "Scol = 1\n",
    "\n",
    "prev = [Srow, Scol]\n",
    "curr = [Srow, Scol + 1]"
   ]
  },
  {
   "cell_type": "code",
   "execution_count": 125,
   "metadata": {},
   "outputs": [
    {
     "name": "stdout",
     "output_type": "stream",
     "text": [
      "[1, 1] [1, 2]\n",
      "S -\n"
     ]
    }
   ],
   "source": [
    "print(prev, curr)\n",
    "\n",
    "print(lines[prev[0]][prev[1]], lines[curr[0]][curr[1]])"
   ]
  },
  {
   "cell_type": "code",
   "execution_count": 126,
   "metadata": {},
   "outputs": [],
   "source": [
    "# nested list visited of row = len(lines) cols = len(lines[0])\n",
    "\n",
    "visited = [[False for i in range(len(lines[0]))] for j in range(len(lines))]"
   ]
  },
  {
   "cell_type": "code",
   "execution_count": 127,
   "metadata": {},
   "outputs": [
    {
     "name": "stdout",
     "output_type": "stream",
     "text": [
      "23\n"
     ]
    }
   ],
   "source": [
    "cur_char = lines[curr[0]][curr[1]]\n",
    "steps = 1\n",
    "\n",
    "while cur_char != 'S':\n",
    "    \n",
    "    visited[curr[0]][curr[1]] = steps\n",
    "    if cur_char == '-':\n",
    "        location = newCordHor(prev, curr)\n",
    "\n",
    "    elif cur_char == '|':\n",
    "        location = nextCordVert(prev, curr)\n",
    "\n",
    "    elif cur_char == 'L':\n",
    "        location = newCordL(prev, curr)\n",
    "\n",
    "    elif cur_char == 'J':\n",
    "        location = newCordJ(prev, curr)\n",
    "\n",
    "    elif cur_char == '7':\n",
    "        location = newCord7(prev, curr)\n",
    "    \n",
    "    elif cur_char == 'F':\n",
    "        location = newCordF(prev, curr)\n",
    "\n",
    "    else:\n",
    "        print(\"ERROR\")\n",
    "        break\n",
    "\n",
    "    cur_char = lines[location[0]][location[1]]\n",
    "    steps+=1\n",
    "    prev = curr \n",
    "    curr = location\n",
    "\n",
    "print(steps // 2)\n",
    "visited[curr[0]][curr[1]] = steps "
   ]
  },
  {
   "cell_type": "code",
   "execution_count": 128,
   "metadata": {},
   "outputs": [],
   "source": [
    "# save file\n",
    "\n",
    "with open('./output2.txt', 'w') as f:\n",
    "    for row in visited:\n",
    "        for col in row:\n",
    "            if col == False:\n",
    "                f.write((('.' + \" \")).ljust(10))\n",
    "            else:\n",
    "                f.write(((str(col) + \" \")).ljust(10))\n",
    "        f.write('\\n')"
   ]
  },
  {
   "cell_type": "code",
   "execution_count": 129,
   "metadata": {},
   "outputs": [
    {
     "name": "stdout",
     "output_type": "stream",
     "text": [
      "46\n"
     ]
    }
   ],
   "source": [
    "print(steps)"
   ]
  },
  {
   "cell_type": "code",
   "execution_count": 130,
   "metadata": {},
   "outputs": [],
   "source": [
    "with open('./output.txt') as f:\n",
    "    lines = f.readlines()\n",
    "\n",
    "for i in range(len(lines)):\n",
    "    lines[i] = lines[i].split()\n",
    "    "
   ]
  },
  {
   "cell_type": "code",
   "execution_count": 131,
   "metadata": {},
   "outputs": [
    {
     "name": "stdout",
     "output_type": "stream",
     "text": [
      "['.', '81', '80', '79', '78', '77', '76', '69', '68', '61', '60', '51', '50', '43', '42', '41', '.', '.', '.', '.']\n",
      "['.', '82', '93', '94', '95', '96', '75', '70', '67', '62', '59', '52', '49', '44', '39', '40', '.', '.', '.', '.']\n",
      "['.', '83', '92', '.', '98', '97', '74', '71', '66', '63', '58', '53', '48', '45', '38', '37', '.', '.', '.', '.']\n",
      "['85', '84', '91', '90', '99', '100', '73', '72', '65', '64', '57', '54', '47', '46', '.', '36', '35', '34', '.', '.']\n",
      "['86', '87', '88', '89', '.', '101', '102', '.', '.', '.', '56', '55', '140', '1', '20', '21', '22', '33', '32', '.']\n",
      "['.', '.', '.', '.', '105', '104', '103', '.', '.', '126', '127', '138', '139', '2', '19', '18', '23', '24', '31', '30']\n",
      "['.', '.', '.', '.', '106', '107', '.', '121', '122', '125', '128', '137', '136', '3', '.', '17', '16', '25', '26', '29']\n",
      "['.', '.', '.', '.', '.', '108', '119', '120', '123', '124', '129', '134', '135', '4', '9', '10', '15', '.', '27', '28']\n",
      "['.', '.', '.', '.', '110', '109', '118', '117', '116', '.', '130', '133', '.', '5', '8', '11', '14', '.', '.', '.']\n",
      "['.', '.', '.', '.', '111', '112', '113', '114', '115', '.', '131', '132', '.', '6', '7', '12', '13', '.', '.', '.']\n"
     ]
    }
   ],
   "source": [
    "for line in lines:\n",
    "    print(line)"
   ]
  },
  {
   "cell_type": "code",
   "execution_count": 132,
   "metadata": {},
   "outputs": [],
   "source": [
    "# # Save lines in a file called output.txt\n",
    "\n",
    "# with open('./output.txt', 'w') as f:\n",
    "#     for line in lines:\n",
    "#         for i in line:\n",
    "#             f.write(i + \" \")\n",
    "\n",
    "#         f.write('\\n')"
   ]
  },
  {
   "cell_type": "code",
   "execution_count": 133,
   "metadata": {},
   "outputs": [],
   "source": [
    "# for i in range(len(lines[0])):\n",
    "#     # top row\n",
    "#     if lines[0][i] == '.':\n",
    "#         dfs(0, i)\n",
    "\n",
    "# for i in range(len(lines[0])):\n",
    "#     # last row\n",
    "#     if lines[-1][i] == '.':\n",
    "#         dfs(len(lines) - 1, i)\n",
    "\n",
    "# for i in range(len(lines)):\n",
    "#     # first col\n",
    "#     if lines[i][0] == '.':\n",
    "#         dfs(i, 0)\n",
    "\n",
    "# for i in range(len(lines)):\n",
    "#     # last col\n",
    "#     if lines[i][-1] == '.':\n",
    "#         dfs(i, len(lines[0]) - 1)"
   ]
  }
 ],
 "metadata": {
  "kernelspec": {
   "display_name": "Python 3",
   "language": "python",
   "name": "python3"
  },
  "language_info": {
   "codemirror_mode": {
    "name": "ipython",
    "version": 3
   },
   "file_extension": ".py",
   "mimetype": "text/x-python",
   "name": "python",
   "nbconvert_exporter": "python",
   "pygments_lexer": "ipython3",
   "version": "3.9.5"
  }
 },
 "nbformat": 4,
 "nbformat_minor": 2
}
