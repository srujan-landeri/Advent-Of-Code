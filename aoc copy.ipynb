{
 "cells": [
  {
   "cell_type": "code",
   "execution_count": 36,
   "metadata": {},
   "outputs": [],
   "source": [
    "with open('./input.txt', 'r') as f:\n",
    "    input = f.readlines()"
   ]
  },
  {
   "cell_type": "code",
   "execution_count": 37,
   "metadata": {},
   "outputs": [],
   "source": [
    "\n",
    "def allZeros(inp):\n",
    "    return inp.count(0) == len(inp)\n",
    "\n",
    "def printNum(numbers):\n",
    "    ans = []\n",
    "    ans.append(numbers)\n",
    "    while not allZeros(numbers):\n",
    "        curDif = []\n",
    "        for i in range(len(numbers) - 1):\n",
    "            curDif.append(numbers[i + 1] - numbers[i])\n",
    "        ans.append(curDif)\n",
    "        numbers = curDif\n",
    "\n",
    "    return ans"
   ]
  },
  {
   "cell_type": "code",
   "execution_count": 38,
   "metadata": {},
   "outputs": [
    {
     "data": {
      "text/plain": [
       "[[10, 13, 16, 21, 30, 45], [3, 3, 5, 9, 15], [0, 2, 4, 6], [2, 2, 2], [0, 0]]"
      ]
     },
     "execution_count": 38,
     "metadata": {},
     "output_type": "execute_result"
    }
   ],
   "source": [
    "printNum([10,  13,  16 , 21 , 30,  45])"
   ]
  },
  {
   "cell_type": "code",
   "execution_count": 39,
   "metadata": {},
   "outputs": [
    {
     "name": "stdout",
     "output_type": "stream",
     "text": [
      "2\n",
      "-2\n",
      "5\n",
      "5\n"
     ]
    }
   ],
   "source": [
    "sum = 0\n",
    "bottom = 0\n",
    "difs = printNum([10,  13,  16 , 21 , 30,  45])\n",
    "\n",
    "for i in range(len(difs) - 2, -1, -1):\n",
    "    sum = (difs[i][0] - bottom)\n",
    "    bottom = sum\n",
    "\n",
    "    print(sum)"
   ]
  },
  {
   "cell_type": "code",
   "execution_count": 40,
   "metadata": {},
   "outputs": [
    {
     "name": "stdout",
     "output_type": "stream",
     "text": [
      "1031\n"
     ]
    }
   ],
   "source": [
    "total = 0\n",
    "\n",
    "for inp in input:\n",
    "    line = list(map(int, inp.split()))\n",
    "    difs = printNum(line)\n",
    "\n",
    "    sum = 0\n",
    "    bottom = 0\n",
    "    difs = printNum(line)\n",
    "\n",
    "    for i in range(len(difs) - 2, -1, -1):\n",
    "        sum = (difs[i][0] - bottom)\n",
    "        bottom = sum\n",
    "    total += sum\n",
    "        \n",
    "print(total)"
   ]
  }
 ],
 "metadata": {
  "kernelspec": {
   "display_name": "Python 3",
   "language": "python",
   "name": "python3"
  },
  "language_info": {
   "codemirror_mode": {
    "name": "ipython",
    "version": 3
   },
   "file_extension": ".py",
   "mimetype": "text/x-python",
   "name": "python",
   "nbconvert_exporter": "python",
   "pygments_lexer": "ipython3",
   "version": "3.9.5"
  }
 },
 "nbformat": 4,
 "nbformat_minor": 2
}
